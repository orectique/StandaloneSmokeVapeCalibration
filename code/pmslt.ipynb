{
 "cells": [
  {
   "cell_type": "code",
   "execution_count": 1,
   "metadata": {},
   "outputs": [],
   "source": [
    "import pandas as pd\n",
    "import numpy as np"
   ]
  },
  {
   "cell_type": "code",
   "execution_count": 2,
   "metadata": {},
   "outputs": [],
   "source": [
    "initPrev = pd.read_csv(\"../data/initialPrevalence.csv\") # read the necessary data files\n",
    "flow_rates = pd.read_csv(\"../data/flow_rates.csv\")\n",
    "flow_apc = pd.read_csv(\"../data/flow_apc.csv\")"
   ]
  },
  {
   "cell_type": "code",
   "execution_count": 3,
   "metadata": {},
   "outputs": [],
   "source": [
    "flow_apc = flow_apc[flow_rates.columns] # make sure the columns are in the same order"
   ]
  },
  {
   "cell_type": "code",
   "execution_count": 4,
   "metadata": {},
   "outputs": [],
   "source": [
    "prevMale = initPrev[initPrev['sex'] == 'male'].reset_index(drop=True) # filter only the male data from the datasets\n",
    "ratesMale = flow_rates[flow_rates['sex'] == 'male'].reset_index(drop=True)\n",
    "apcMale = flow_apc[flow_apc['sex'] == 'male'].reset_index(drop=True)\n",
    "\n",
    "modelCols = prevMale.columns # get the columns of the dataframes\n",
    "\n",
    "# select data from X where the sex column in X has the value male"
   ]
  },
  {
   "cell_type": "code",
   "execution_count": 5,
   "metadata": {},
   "outputs": [],
   "source": [
    "rates = np.array(ratesMale.iloc[:, 2:]) # convert the data to numpy arrays\n",
    "apc = np.array(apcMale.iloc[:, 2:])"
   ]
  },
  {
   "cell_type": "code",
   "execution_count": 6,
   "metadata": {},
   "outputs": [
    {
     "data": {
      "text/plain": [
       "((110, 21), (110, 21))"
      ]
     },
     "execution_count": 6,
     "metadata": {},
     "output_type": "execute_result"
    }
   ],
   "source": [
    "np.shape(rates), np.shape(apc) # check the shapes of the arrays"
   ]
  },
  {
   "cell_type": "code",
   "execution_count": 7,
   "metadata": {},
   "outputs": [],
   "source": [
    "t = 2023"
   ]
  },
  {
   "cell_type": "code",
   "execution_count": 8,
   "metadata": {},
   "outputs": [],
   "source": [
    "flows = ['n_s', 's_rs', 'n_v', 'v_rv', 'rs_dead', 'rv_dead',\n",
    "       's_dead', 'sv_dead', 'v_dead', 'n_dead', 'v_sv', 's_sv', 'sv_s',\n",
    "       'sv_vrs', 'sv_rs', 'v_s', 's_vrs', 'vrs_sv', 'vrs_s', 'vrs_rv',\n",
    "       'vrs_dead']\n",
    "\n",
    "x = set(flow.split('_')[0] for flow in flows)\n",
    "states = set(flow.split('_')[1] for flow in flows)"
   ]
  },
  {
   "cell_type": "code",
   "execution_count": 9,
   "metadata": {},
   "outputs": [],
   "source": [
    "r = rates * (1 + apc)**(t - 2021)\n",
    "r = pd.DataFrame(r, columns=flows)"
   ]
  },
  {
   "cell_type": "code",
   "execution_count": 10,
   "metadata": {},
   "outputs": [],
   "source": [
    "flowsLookup = {}\n",
    "\n",
    "for i in x:\n",
    "    flowsLookup[i] = [flow for flow in flows if flow.split('_')[0] == i]"
   ]
  },
  {
   "cell_type": "code",
   "execution_count": 11,
   "metadata": {},
   "outputs": [
    {
     "data": {
      "text/plain": [
       "{'v': ['v_rv', 'v_dead', 'v_sv', 'v_s'],\n",
       " 'rv': ['rv_dead'],\n",
       " 's': ['s_rs', 's_dead', 's_sv', 's_vrs'],\n",
       " 'n': ['n_s', 'n_v', 'n_dead'],\n",
       " 'rs': ['rs_dead'],\n",
       " 'sv': ['sv_dead', 'sv_s', 'sv_vrs', 'sv_rs'],\n",
       " 'vrs': ['vrs_sv', 'vrs_s', 'vrs_rv', 'vrs_dead']}"
      ]
     },
     "execution_count": 11,
     "metadata": {},
     "output_type": "execute_result"
    }
   ],
   "source": [
    "flowsLookup"
   ]
  },
  {
   "cell_type": "code",
   "execution_count": 12,
   "metadata": {},
   "outputs": [],
   "source": [
    "for statex in x:\n",
    "    r[f\"f_{statex}\"] = r[flowsLookup[statex]].sum(axis=1)"
   ]
  },
  {
   "cell_type": "code",
   "execution_count": 13,
   "metadata": {},
   "outputs": [],
   "source": [
    "for flow in flows:\n",
    "        statex = flow.split('_')[0]\n",
    "        statey = flow.split('_')[1]\n",
    "        r[f\"p_{statex}_{statey}\"] = (1 - np.exp( - r[f\"f_{statex}\"]/4)) * r[f\"{statex}_{statey}\"]/r[f\"f_{statex}\"]"
   ]
  },
  {
   "cell_type": "code",
   "execution_count": 14,
   "metadata": {},
   "outputs": [],
   "source": [
    "ps = [col for col in r.columns if col.startswith('p_')]"
   ]
  },
  {
   "cell_type": "code",
   "execution_count": 15,
   "metadata": {},
   "outputs": [
    {
     "name": "stdout",
     "output_type": "stream",
     "text": [
      "['p_n_s', 'p_s_rs', 'p_n_v', 'p_v_rv', 'p_rs_dead', 'p_rv_dead', 'p_s_dead', 'p_sv_dead', 'p_v_dead', 'p_n_dead', 'p_v_sv', 'p_s_sv', 'p_sv_s', 'p_sv_vrs', 'p_sv_rs', 'p_v_s', 'p_s_vrs', 'p_vrs_sv', 'p_vrs_s', 'p_vrs_rv', 'p_vrs_dead']\n"
     ]
    }
   ],
   "source": [
    "print(ps)"
   ]
  },
  {
   "cell_type": "code",
   "execution_count": 16,
   "metadata": {},
   "outputs": [],
   "source": [
    "for state in x:\n",
    "    r[f\"p_from_{state}\"] = r[[col for col in ps if col.endswith(f\"_{state}\")]].sum(axis=1)"
   ]
  },
  {
   "cell_type": "code",
   "execution_count": 17,
   "metadata": {},
   "outputs": [],
   "source": [
    "for state in states:\n",
    "    if state != 'dead':\n",
    "        prevMale[f\"out_{state}\"] = r[f\"p_from_{state}\"] * prevMale[state]\n",
    "    else:\n",
    "        prevMale[f\"out_{state}\"] = 0\n",
    "        \n",
    "    prevMale[f\"in_{state}\"] = 0\n",
    "    for statex in x:\n",
    "        if statex != state:\n",
    "            if f\"p_{statex}_{state}\" in r.columns:\n",
    "                prevMale[f\"in_{state}\"] += r[f\"p_{statex}_{state}\"] * prevMale[statex]\n",
    "\n",
    "    prevMale[state] += prevMale[f\"in_{state}\"] - prevMale[f\"out_{state}\"]\n",
    "\n",
    "prevMale = prevMale[modelCols]"
   ]
  },
  {
   "cell_type": "code",
   "execution_count": 18,
   "metadata": {},
   "outputs": [],
   "source": [
    "prevMale[\"smoking\"] = (prevMale[\"s\"] + prevMale[\"sv\"])/(1 - prevMale[\"dead\"])\n",
    "prevMale[\"vaping\"] = (prevMale[\"v\"] + prevMale[\"sv\"] + prevMale[\"vrs\"])/(1 - prevMale[\"dead\"])"
   ]
  },
  {
   "cell_type": "code",
   "execution_count": 19,
   "metadata": {},
   "outputs": [],
   "source": [
    "output = prevMale[[\"age\", \"sex\", \"smoking\", \"vaping\"]]"
   ]
  },
  {
   "cell_type": "code",
   "execution_count": 20,
   "metadata": {},
   "outputs": [
    {
     "data": {
      "text/html": [
       "<div>\n",
       "<style scoped>\n",
       "    .dataframe tbody tr th:only-of-type {\n",
       "        vertical-align: middle;\n",
       "    }\n",
       "\n",
       "    .dataframe tbody tr th {\n",
       "        vertical-align: top;\n",
       "    }\n",
       "\n",
       "    .dataframe thead th {\n",
       "        text-align: right;\n",
       "    }\n",
       "</style>\n",
       "<table border=\"1\" class=\"dataframe\">\n",
       "  <thead>\n",
       "    <tr style=\"text-align: right;\">\n",
       "      <th></th>\n",
       "      <th>age</th>\n",
       "      <th>sex</th>\n",
       "      <th>smoking</th>\n",
       "      <th>vaping</th>\n",
       "    </tr>\n",
       "  </thead>\n",
       "  <tbody>\n",
       "    <tr>\n",
       "      <th>0</th>\n",
       "      <td>0</td>\n",
       "      <td>male</td>\n",
       "      <td>0.000000</td>\n",
       "      <td>0.000000</td>\n",
       "    </tr>\n",
       "    <tr>\n",
       "      <th>1</th>\n",
       "      <td>1</td>\n",
       "      <td>male</td>\n",
       "      <td>0.000000</td>\n",
       "      <td>0.000000</td>\n",
       "    </tr>\n",
       "    <tr>\n",
       "      <th>2</th>\n",
       "      <td>2</td>\n",
       "      <td>male</td>\n",
       "      <td>0.000000</td>\n",
       "      <td>0.000000</td>\n",
       "    </tr>\n",
       "    <tr>\n",
       "      <th>3</th>\n",
       "      <td>3</td>\n",
       "      <td>male</td>\n",
       "      <td>0.000000</td>\n",
       "      <td>0.000000</td>\n",
       "    </tr>\n",
       "    <tr>\n",
       "      <th>4</th>\n",
       "      <td>4</td>\n",
       "      <td>male</td>\n",
       "      <td>0.000000</td>\n",
       "      <td>0.000000</td>\n",
       "    </tr>\n",
       "    <tr>\n",
       "      <th>...</th>\n",
       "      <td>...</td>\n",
       "      <td>...</td>\n",
       "      <td>...</td>\n",
       "      <td>...</td>\n",
       "    </tr>\n",
       "    <tr>\n",
       "      <th>105</th>\n",
       "      <td>105</td>\n",
       "      <td>male</td>\n",
       "      <td>0.010995</td>\n",
       "      <td>0.000101</td>\n",
       "    </tr>\n",
       "    <tr>\n",
       "      <th>106</th>\n",
       "      <td>106</td>\n",
       "      <td>male</td>\n",
       "      <td>0.010666</td>\n",
       "      <td>0.000157</td>\n",
       "    </tr>\n",
       "    <tr>\n",
       "      <th>107</th>\n",
       "      <td>107</td>\n",
       "      <td>male</td>\n",
       "      <td>0.010338</td>\n",
       "      <td>0.000142</td>\n",
       "    </tr>\n",
       "    <tr>\n",
       "      <th>108</th>\n",
       "      <td>108</td>\n",
       "      <td>male</td>\n",
       "      <td>0.010021</td>\n",
       "      <td>0.000145</td>\n",
       "    </tr>\n",
       "    <tr>\n",
       "      <th>109</th>\n",
       "      <td>109</td>\n",
       "      <td>male</td>\n",
       "      <td>0.011778</td>\n",
       "      <td>0.000183</td>\n",
       "    </tr>\n",
       "  </tbody>\n",
       "</table>\n",
       "<p>110 rows × 4 columns</p>\n",
       "</div>"
      ],
      "text/plain": [
       "     age   sex   smoking    vaping\n",
       "0      0  male  0.000000  0.000000\n",
       "1      1  male  0.000000  0.000000\n",
       "2      2  male  0.000000  0.000000\n",
       "3      3  male  0.000000  0.000000\n",
       "4      4  male  0.000000  0.000000\n",
       "..   ...   ...       ...       ...\n",
       "105  105  male  0.010995  0.000101\n",
       "106  106  male  0.010666  0.000157\n",
       "107  107  male  0.010338  0.000142\n",
       "108  108  male  0.010021  0.000145\n",
       "109  109  male  0.011778  0.000183\n",
       "\n",
       "[110 rows x 4 columns]"
      ]
     },
     "execution_count": 20,
     "metadata": {},
     "output_type": "execute_result"
    }
   ],
   "source": [
    "output"
   ]
  },
  {
   "cell_type": "code",
   "execution_count": null,
   "metadata": {},
   "outputs": [],
   "source": []
  }
 ],
 "metadata": {
  "kernelspec": {
   "display_name": "popint",
   "language": "python",
   "name": "python3"
  },
  "language_info": {
   "codemirror_mode": {
    "name": "ipython",
    "version": 3
   },
   "file_extension": ".py",
   "mimetype": "text/x-python",
   "name": "python",
   "nbconvert_exporter": "python",
   "pygments_lexer": "ipython3",
   "version": "3.10.14"
  }
 },
 "nbformat": 4,
 "nbformat_minor": 2
}
