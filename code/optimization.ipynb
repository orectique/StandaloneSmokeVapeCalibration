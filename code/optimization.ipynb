{
 "cells": [
  {
   "cell_type": "code",
   "execution_count": 1,
   "metadata": {},
   "outputs": [],
   "source": [
    "import numpy as np\n",
    "import pandas as pd"
   ]
  },
  {
   "cell_type": "code",
   "execution_count": 2,
   "metadata": {},
   "outputs": [],
   "source": [
    "flow_rates = pd.read_csv(\"../data/flow_rates.csv\")\n",
    "flow_apc = pd.read_csv(\"../data/flow_apc.csv\")\n",
    "\n",
    "ratesMale = flow_rates[flow_rates['sex'] == 'male'].reset_index(drop=True)\n",
    "apcMale = flow_apc[flow_apc['sex'] == 'male'].reset_index(drop=True)\n",
    "\n",
    "rates = np.array(ratesMale.iloc[:, 2:])\n",
    "apc = np.array(apcMale.iloc[:, 2:])"
   ]
  },
  {
   "cell_type": "code",
   "execution_count": 3,
   "metadata": {},
   "outputs": [],
   "source": [
    "from scripts import pmsltsrc as pms\n",
    "\n",
    "model = pms.pmsltModel()"
   ]
  },
  {
   "cell_type": "code",
   "execution_count": 4,
   "metadata": {},
   "outputs": [],
   "source": [
    "baseflows = ['n_s', 's_rs', 'n_v', 'v_rv', 's_vrs', 'v_s']\n",
    "ages = [0, 14, 15, 16, 18, 21, 24, 28, 33, 40, 50, 60, 70, 90, 109]"
   ]
  },
  {
   "cell_type": "code",
   "execution_count": 5,
   "metadata": {},
   "outputs": [],
   "source": [
    "flows = model.flows"
   ]
  },
  {
   "cell_type": "code",
   "execution_count": 6,
   "metadata": {},
   "outputs": [],
   "source": [
    "computed = ['n_s', 's_rs', 'n_v', 'v_rv', 's_vrs', 'v_s', 'age', 'v_sv', 's_sv',\n",
    "       'sv_s', 'sv_vrs', 'vrs_s', 'vrs_sv', 'vrs_rv', 'sv_rs']\n",
    "\n",
    "noncomputed = [i for i in flows if i not in computed]"
   ]
  },
  {
   "cell_type": "code",
   "execution_count": 7,
   "metadata": {},
   "outputs": [],
   "source": [
    "interactions = pd.read_csv(\"../data/flowInteractions.csv\")\n",
    "\n",
    "interflows = interactions.columns[1:]\n",
    "\n",
    "tempflows = pd.DataFrame(np.ones((98, 7)), columns=interflows)\n",
    "\n",
    "tempflows[\"agecategory\"] = [i for i in range(110) if i not in interactions[\"agecategory\"].values]\n",
    "\n",
    "interactions = pd.concat([interactions, tempflows], axis=0).sort_values(by=\"agecategory\").reset_index(drop=True)\n",
    "\n",
    "interactions.loc[interactions[\"agecategory\"] > 25, \"v_sv from n_s \"] = 2"
   ]
  },
  {
   "cell_type": "code",
   "execution_count": 8,
   "metadata": {},
   "outputs": [],
   "source": [
    "empty = pd.DataFrame(np.empty((95, 6)), columns=baseflows)\n",
    "empty[\"age\"] = [i for i in np.arange(0, 110) if i not in ages]"
   ]
  },
  {
   "cell_type": "code",
   "execution_count": 9,
   "metadata": {},
   "outputs": [],
   "source": [
    "def process(inpArray: np.ndarray):\n",
    "    rates = pd.DataFrame(inpArray[:90].reshape(15, 6), columns=baseflows)\n",
    "    apc = pd.DataFrame(inpArray[90:].reshape(15, 6), columns=baseflows)\n",
    "\n",
    "    rates[\"age\"] = ages\n",
    "    apc[\"age\"] = ages\n",
    "\n",
    "    rates = pd.concat([rates, empty], ignore_index=True).sort_values(by=\"age\").reset_index(drop=True)\n",
    "    apc = pd.concat([apc, empty], ignore_index=True).sort_values(by=\"age\").reset_index(drop=True)\n",
    "\n",
    "    rates = rates.interpolate(method='linear', axis=0)\n",
    "    apc = apc.interpolate(method='linear', axis=0)\n",
    "\n",
    "    for interflow in interflows:\n",
    "        flow1 = interflow.split(\"from\")[1].strip()\n",
    "        flow2 = interflow.split(\"from\")[0].strip()\n",
    "\n",
    "        rates[flow2] = rates[flow1] * interactions[interflow]\n",
    "        apc[flow2] = apc[flow1].copy()\n",
    "\n",
    "    rates['sv_rs'] = rates[['s_rs', 'v_rv']].min(axis=1)\n",
    "    apc['sv_rs'] = apc[['s_rs', 'v_rv']].min(axis=1)\n",
    "\n",
    "    rates[noncomputed] = flow_rates[noncomputed]\n",
    "    apc[noncomputed] = flow_apc[noncomputed]\n",
    "\n",
    "    rates = np.array(rates.iloc[:, 1:])\n",
    "    apc = np.array(apc.iloc[:, 1:])\n",
    "\n",
    "    return (rates, apc)"
   ]
  },
  {
   "cell_type": "code",
   "execution_count": 10,
   "metadata": {},
   "outputs": [],
   "source": [
    "def costFunc(inpArray):\n",
    "\n",
    "    n = inpArray.shape[0]\n",
    "\n",
    "    outs = [process(inpArray[i, :]) for i in range(n)]\n",
    "    nrates = [outs[i][0] for i in range(n)]\n",
    "    napc = [outs[i][1] for i in range(n)]\n",
    "    outs = [model.pmslt(nrates[i], napc[i]) for i in range(n)]\n",
    "\n",
    "    j = [score for (score, _) in outs]\n",
    "\n",
    "    return j"
   ]
  },
  {
   "cell_type": "code",
   "execution_count": 11,
   "metadata": {},
   "outputs": [],
   "source": [
    "def costFunc_single(inpArray):\n",
    "    (rates, apc) = process(inpArray)\n",
    "    score, _ = model.pmslt(rates, apc)\n",
    "    return score"
   ]
  },
  {
   "cell_type": "code",
   "execution_count": 12,
   "metadata": {},
   "outputs": [],
   "source": [
    "apc_lower = np.array([-0.25, 0, -0.25, -0.25, -0.25, -0.25]*15)\n",
    "apc_upper = np.array([0, 0.25, 0.25, 0.25, 0.25, 0.25]*15)"
   ]
  },
  {
   "cell_type": "code",
   "execution_count": 13,
   "metadata": {},
   "outputs": [],
   "source": [
    "rates_upper = pd.read_csv(\"../data/flow_rates_upper.csv\")\n",
    "rates_upper = rates_upper[rates_upper['sex'] == 'male'].drop(columns=['sex']).reset_index(drop=True)\n",
    "\n",
    "rates_upper.loc[rates_upper['agecategory'] == 19, 'agecategory'] = 21\n",
    "\n",
    "emptyUpper = np.empty((10, 6))\n",
    "emptyUpper[:] = np.nan\n",
    "emptyUpper = pd.DataFrame(emptyUpper, columns=baseflows)\n",
    "emptyUpper[\"agecategory\"] = [i for i in ages if i not in rates_upper[\"agecategory\"].values]\n",
    "\n",
    "rates_upper = pd.concat([rates_upper, emptyUpper], ignore_index=True).sort_values(by=\"agecategory\").reset_index(drop=True)\n",
    "\n",
    "rates_upper.ffill(inplace=True)"
   ]
  },
  {
   "cell_type": "code",
   "execution_count": 14,
   "metadata": {},
   "outputs": [],
   "source": [
    "rates_lower = np.array(np.zeros((9, 6))).flatten()\n",
    "rates_lower = np.concatenate((rates_lower, np.array([0, 0, 0, 0.01, 0, 0]*6)))\n",
    "\n",
    "rates_upper = np.array(rates_upper.iloc[:, 1:]).flatten()"
   ]
  },
  {
   "cell_type": "code",
   "execution_count": 15,
   "metadata": {},
   "outputs": [],
   "source": [
    "constraints = (np.concatenate((rates_lower, apc_lower)), np.concatenate((rates_upper, apc_upper)))"
   ]
  },
  {
   "cell_type": "markdown",
   "metadata": {},
   "source": [
    "### Swarm optimization"
   ]
  },
  {
   "cell_type": "code",
   "execution_count": 15,
   "metadata": {},
   "outputs": [],
   "source": [
    "import pyswarms as ps"
   ]
  },
  {
   "cell_type": "code",
   "execution_count": 16,
   "metadata": {},
   "outputs": [],
   "source": [
    "optimizer = ps.global_best.GlobalBestPSO(n_particles=50, \n",
    "                                         dimensions=180,    \n",
    "                                         options={'c1': 0.5, 'c2': 0.3, 'w': 0.9},\n",
    "                                         bounds=constraints)"
   ]
  },
  {
   "cell_type": "code",
   "execution_count": 17,
   "metadata": {},
   "outputs": [
    {
     "name": "stderr",
     "output_type": "stream",
     "text": [
      "2024-07-18 00:55:24,020 - pyswarms.single.global_best - INFO - Optimize for 100 iters with {'c1': 0.5, 'c2': 0.3, 'w': 0.9}\n",
      "pyswarms.single.global_best:   0%|          |0/100, best_cost=6.26e+4c:\\Users\\orect\\mambaforge\\envs\\popint\\lib\\site-packages\\pyswarms\\backend\\handlers.py:387: RuntimeWarning: invalid value encountered in remainder\n",
      "  new_pos[greater_than_bound] = lb[greater_than_bound] + np.mod(\n",
      "pyswarms.single.global_best: 100%|██████████|100/100, best_cost=6.26e+4\n",
      "2024-07-18 02:38:55,583 - pyswarms.single.global_best - INFO - Optimization finished | best cost: 62586.453805968915, best pos: [ 0.          0.          0.          0.          0.          0.\n",
      "  0.          0.          0.          0.          0.          0.\n",
      "  0.01758242  0.          0.14520186  0.          0.          0.\n",
      "  0.0494819   0.          0.293785    0.          0.23274952  0.29996152\n",
      "  0.11306908  0.          0.05703698  0.          0.23780251  0.04586907\n",
      "  0.1301143   0.14389011  0.3030244   0.0842512   0.24526081  0.22500384\n",
      "  0.10258791  0.12394622  0.05869081  0.07379745  0.27130919  0.18959616\n",
      "  0.          0.01244949  0.24593331  0.09644204  0.05856822  0.1691629\n",
      "  0.          0.1434304   0.04939047  0.1258302   0.29006594  0.33441518\n",
      "  0.          0.14339602  0.17575042  0.13069735  0.18655807  0.20468715\n",
      "  0.          0.02261974  0.11113008  0.06105324  0.05835196  0.23547127\n",
      "  0.          0.13207479  0.13866632  0.0697265   0.28339814  0.02617485\n",
      "  0.          0.1347934   0.1563624   0.13170342  0.24556316  0.21928971\n",
      "  0.          0.11370842  0.26117483  0.04775006  0.30455175  0.19911747\n",
      "  0.          0.10714489  0.34090866  0.02704386  0.04397558  0.03830473\n",
      " -0.115747    0.0123568  -0.15181831  0.2122871  -0.05509591  0.05217794\n",
      " -0.02529842  0.2129616   0.18966456 -0.01990647  0.05870854 -0.07806897\n",
      " -0.13233459  0.0580891   0.00248501 -0.05642492  0.13714827 -0.09304655\n",
      " -0.01639679  0.13770251  0.20136948  0.17192844  0.14565763 -0.21685634\n",
      " -0.07136813  0.0168169  -0.11401186  0.0946377   0.07998315 -0.11202137\n",
      " -0.06641556  0.00754309  0.09591323 -0.22276925 -0.1632825  -0.08830946\n",
      " -0.01520217  0.24072214  0.05711998  0.23498209  0.19285974  0.17604281\n",
      " -0.13853956  0.20971777  0.01979431  0.17564626 -0.00123745 -0.24664505\n",
      " -0.19188741  0.15118062  0.20293332 -0.22856752 -0.00683095  0.12316482\n",
      " -0.11960604  0.04094687 -0.04965519  0.07946864  0.19123431 -0.07376457\n",
      " -0.21477271  0.14229713 -0.2257066   0.10676731 -0.09220964 -0.21079085\n",
      " -0.04201252  0.00877555  0.07295491  0.03262293 -0.06412439 -0.01177315\n",
      " -0.18873739  0.15867995  0.07387769 -0.12824193  0.23189601  0.19612657\n",
      " -0.21583864  0.14363163 -0.16134531 -0.02530912 -0.16072483  0.21679972\n",
      " -0.14605766  0.10997227  0.08130131  0.02580918  0.12322915 -0.16638469]\n"
     ]
    }
   ],
   "source": [
    "#cost, args = optimizer.optimize(costFunc, iters=100)"
   ]
  },
  {
   "cell_type": "code",
   "execution_count": 23,
   "metadata": {},
   "outputs": [
    {
     "data": {
      "text/plain": [
       "np.float64(62586.453805968915)"
      ]
     },
     "execution_count": 23,
     "metadata": {},
     "output_type": "execute_result"
    }
   ],
   "source": [
    "#costFunc_single(args)"
   ]
  },
  {
   "cell_type": "code",
   "execution_count": 25,
   "metadata": {},
   "outputs": [],
   "source": [
    "#rates, apc = process(args)"
   ]
  },
  {
   "cell_type": "code",
   "execution_count": 33,
   "metadata": {},
   "outputs": [],
   "source": [
    "#np.savetxt(\"../data/outputs/rates_PSO_50p_100i.csv\", rates, delimiter=\",\")\n",
    "#np.savetxt(\"../data/outputs/apc_PSO_50p_100i.csv\", apc, delimiter=\",\")"
   ]
  },
  {
   "cell_type": "code",
   "execution_count": 31,
   "metadata": {},
   "outputs": [],
   "source": [
    "#score = model.pmslt(rates, apc)"
   ]
  },
  {
   "cell_type": "markdown",
   "metadata": {},
   "source": [
    "    "
   ]
  },
  {
   "cell_type": "code",
   "execution_count": 41,
   "metadata": {},
   "outputs": [],
   "source": [
    "argsRates = pd.DataFrame(args[:90].reshape(15, 6), columns=baseflows)\n",
    "argsRates[\"age\"] = ages\n",
    "argsApc = pd.DataFrame(args[90:].reshape(15, 6), columns=baseflows)\n",
    "argsApc[\"age\"] = ages"
   ]
  },
  {
   "cell_type": "code",
   "execution_count": 42,
   "metadata": {},
   "outputs": [
    {
     "data": {
      "text/html": [
       "<div>\n",
       "<style scoped>\n",
       "    .dataframe tbody tr th:only-of-type {\n",
       "        vertical-align: middle;\n",
       "    }\n",
       "\n",
       "    .dataframe tbody tr th {\n",
       "        vertical-align: top;\n",
       "    }\n",
       "\n",
       "    .dataframe thead th {\n",
       "        text-align: right;\n",
       "    }\n",
       "</style>\n",
       "<table border=\"1\" class=\"dataframe\">\n",
       "  <thead>\n",
       "    <tr style=\"text-align: right;\">\n",
       "      <th></th>\n",
       "      <th>n_s</th>\n",
       "      <th>s_rs</th>\n",
       "      <th>n_v</th>\n",
       "      <th>v_rv</th>\n",
       "      <th>s_vrs</th>\n",
       "      <th>v_s</th>\n",
       "      <th>age</th>\n",
       "    </tr>\n",
       "  </thead>\n",
       "  <tbody>\n",
       "    <tr>\n",
       "      <th>0</th>\n",
       "      <td>0.000000</td>\n",
       "      <td>0.000000</td>\n",
       "      <td>0.000000</td>\n",
       "      <td>0.000000</td>\n",
       "      <td>0.000000</td>\n",
       "      <td>0.000000</td>\n",
       "      <td>0</td>\n",
       "    </tr>\n",
       "    <tr>\n",
       "      <th>1</th>\n",
       "      <td>0.000000</td>\n",
       "      <td>0.000000</td>\n",
       "      <td>0.000000</td>\n",
       "      <td>0.000000</td>\n",
       "      <td>0.000000</td>\n",
       "      <td>0.000000</td>\n",
       "      <td>14</td>\n",
       "    </tr>\n",
       "    <tr>\n",
       "      <th>2</th>\n",
       "      <td>0.017582</td>\n",
       "      <td>0.000000</td>\n",
       "      <td>0.145202</td>\n",
       "      <td>0.000000</td>\n",
       "      <td>0.000000</td>\n",
       "      <td>0.000000</td>\n",
       "      <td>15</td>\n",
       "    </tr>\n",
       "    <tr>\n",
       "      <th>3</th>\n",
       "      <td>0.049482</td>\n",
       "      <td>0.000000</td>\n",
       "      <td>0.293785</td>\n",
       "      <td>0.000000</td>\n",
       "      <td>0.232750</td>\n",
       "      <td>0.299962</td>\n",
       "      <td>16</td>\n",
       "    </tr>\n",
       "    <tr>\n",
       "      <th>4</th>\n",
       "      <td>0.113069</td>\n",
       "      <td>0.000000</td>\n",
       "      <td>0.057037</td>\n",
       "      <td>0.000000</td>\n",
       "      <td>0.237803</td>\n",
       "      <td>0.045869</td>\n",
       "      <td>18</td>\n",
       "    </tr>\n",
       "    <tr>\n",
       "      <th>5</th>\n",
       "      <td>0.130114</td>\n",
       "      <td>0.143890</td>\n",
       "      <td>0.303024</td>\n",
       "      <td>0.084251</td>\n",
       "      <td>0.245261</td>\n",
       "      <td>0.225004</td>\n",
       "      <td>21</td>\n",
       "    </tr>\n",
       "    <tr>\n",
       "      <th>6</th>\n",
       "      <td>0.102588</td>\n",
       "      <td>0.123946</td>\n",
       "      <td>0.058691</td>\n",
       "      <td>0.073797</td>\n",
       "      <td>0.271309</td>\n",
       "      <td>0.189596</td>\n",
       "      <td>24</td>\n",
       "    </tr>\n",
       "    <tr>\n",
       "      <th>7</th>\n",
       "      <td>0.000000</td>\n",
       "      <td>0.012449</td>\n",
       "      <td>0.245933</td>\n",
       "      <td>0.096442</td>\n",
       "      <td>0.058568</td>\n",
       "      <td>0.169163</td>\n",
       "      <td>28</td>\n",
       "    </tr>\n",
       "    <tr>\n",
       "      <th>8</th>\n",
       "      <td>0.000000</td>\n",
       "      <td>0.143430</td>\n",
       "      <td>0.049390</td>\n",
       "      <td>0.125830</td>\n",
       "      <td>0.290066</td>\n",
       "      <td>0.334415</td>\n",
       "      <td>33</td>\n",
       "    </tr>\n",
       "    <tr>\n",
       "      <th>9</th>\n",
       "      <td>0.000000</td>\n",
       "      <td>0.143396</td>\n",
       "      <td>0.175750</td>\n",
       "      <td>0.130697</td>\n",
       "      <td>0.186558</td>\n",
       "      <td>0.204687</td>\n",
       "      <td>40</td>\n",
       "    </tr>\n",
       "    <tr>\n",
       "      <th>10</th>\n",
       "      <td>0.000000</td>\n",
       "      <td>0.022620</td>\n",
       "      <td>0.111130</td>\n",
       "      <td>0.061053</td>\n",
       "      <td>0.058352</td>\n",
       "      <td>0.235471</td>\n",
       "      <td>50</td>\n",
       "    </tr>\n",
       "    <tr>\n",
       "      <th>11</th>\n",
       "      <td>0.000000</td>\n",
       "      <td>0.132075</td>\n",
       "      <td>0.138666</td>\n",
       "      <td>0.069727</td>\n",
       "      <td>0.283398</td>\n",
       "      <td>0.026175</td>\n",
       "      <td>60</td>\n",
       "    </tr>\n",
       "    <tr>\n",
       "      <th>12</th>\n",
       "      <td>0.000000</td>\n",
       "      <td>0.134793</td>\n",
       "      <td>0.156362</td>\n",
       "      <td>0.131703</td>\n",
       "      <td>0.245563</td>\n",
       "      <td>0.219290</td>\n",
       "      <td>70</td>\n",
       "    </tr>\n",
       "    <tr>\n",
       "      <th>13</th>\n",
       "      <td>0.000000</td>\n",
       "      <td>0.113708</td>\n",
       "      <td>0.261175</td>\n",
       "      <td>0.047750</td>\n",
       "      <td>0.304552</td>\n",
       "      <td>0.199117</td>\n",
       "      <td>90</td>\n",
       "    </tr>\n",
       "    <tr>\n",
       "      <th>14</th>\n",
       "      <td>0.000000</td>\n",
       "      <td>0.107145</td>\n",
       "      <td>0.340909</td>\n",
       "      <td>0.027044</td>\n",
       "      <td>0.043976</td>\n",
       "      <td>0.038305</td>\n",
       "      <td>109</td>\n",
       "    </tr>\n",
       "  </tbody>\n",
       "</table>\n",
       "</div>"
      ],
      "text/plain": [
       "         n_s      s_rs       n_v      v_rv     s_vrs       v_s  age\n",
       "0   0.000000  0.000000  0.000000  0.000000  0.000000  0.000000    0\n",
       "1   0.000000  0.000000  0.000000  0.000000  0.000000  0.000000   14\n",
       "2   0.017582  0.000000  0.145202  0.000000  0.000000  0.000000   15\n",
       "3   0.049482  0.000000  0.293785  0.000000  0.232750  0.299962   16\n",
       "4   0.113069  0.000000  0.057037  0.000000  0.237803  0.045869   18\n",
       "5   0.130114  0.143890  0.303024  0.084251  0.245261  0.225004   21\n",
       "6   0.102588  0.123946  0.058691  0.073797  0.271309  0.189596   24\n",
       "7   0.000000  0.012449  0.245933  0.096442  0.058568  0.169163   28\n",
       "8   0.000000  0.143430  0.049390  0.125830  0.290066  0.334415   33\n",
       "9   0.000000  0.143396  0.175750  0.130697  0.186558  0.204687   40\n",
       "10  0.000000  0.022620  0.111130  0.061053  0.058352  0.235471   50\n",
       "11  0.000000  0.132075  0.138666  0.069727  0.283398  0.026175   60\n",
       "12  0.000000  0.134793  0.156362  0.131703  0.245563  0.219290   70\n",
       "13  0.000000  0.113708  0.261175  0.047750  0.304552  0.199117   90\n",
       "14  0.000000  0.107145  0.340909  0.027044  0.043976  0.038305  109"
      ]
     },
     "execution_count": 42,
     "metadata": {},
     "output_type": "execute_result"
    }
   ],
   "source": [
    "argsRates"
   ]
  },
  {
   "cell_type": "code",
   "execution_count": null,
   "metadata": {},
   "outputs": [],
   "source": []
  }
 ],
 "metadata": {
  "kernelspec": {
   "display_name": "popint",
   "language": "python",
   "name": "python3"
  },
  "language_info": {
   "codemirror_mode": {
    "name": "ipython",
    "version": 3
   },
   "file_extension": ".py",
   "mimetype": "text/x-python",
   "name": "python",
   "nbconvert_exporter": "python",
   "pygments_lexer": "ipython3",
   "version": "3.10.14"
  }
 },
 "nbformat": 4,
 "nbformat_minor": 2
}
